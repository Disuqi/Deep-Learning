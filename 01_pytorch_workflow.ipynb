{
  "nbformat": 4,
  "nbformat_minor": 0,
  "metadata": {
    "colab": {
      "provenance": []
    },
    "kernelspec": {
      "name": "python3",
      "display_name": "Python 3"
    },
    "language_info": {
      "name": "python"
    }
  },
  "cells": [
    {
      "cell_type": "markdown",
      "source": [
        "# Pytorch workflow\n",
        "This section looks at a typical pytorch workflow. We will create the data, perpare it, create our model, train it, and test it.\n",
        "\n",
        "here are some important things we are going to be using\n",
        "1. torch.nn => contains all of the buildings for computetional graphs (a neural network can be a computetional graph)\n",
        "2. torch.nn.Parameter => what paramater should our model try and learn\n",
        "3. torch.nn.Module => Base class for all neural network modules, when extending it you should overwrite forward"
      ],
      "metadata": {
        "id": "Pp2k7tTHRUSK"
      }
    },
    {
      "cell_type": "code",
      "execution_count": 1,
      "metadata": {
        "id": "vVVOCc1SdPHg"
      },
      "outputs": [],
      "source": [
        "import torch\n",
        "from torch import nn # nn contains all of pytorch's building blocks for neural networks\n",
        "import matplotlib.pyplot as plt"
      ]
    },
    {
      "cell_type": "markdown",
      "source": [
        "## Data (preparing and loading)\n",
        "Data can be almost anything in machine learning.\n",
        "\n",
        "In machine learning you:\n",
        "1. Get data into a numerical representation.\n",
        "2. Build a model to elarn patterns in that numerical representation.\n",
        "\n",
        "We will create asom e data using the linear regression formula to show this.\n",
        "\n",
        "***Linear Regression => y = mx + c***"
      ],
      "metadata": {
        "id": "d2rlIAWx59se"
      }
    },
    {
      "cell_type": "code",
      "source": [
        "# Creating known parameters\n",
        "weight = 0.7 # in this case the gradient\n",
        "bias = 0.3 # in this case the y intercept/c\n",
        "\n",
        "# Create some data\n",
        "start = 0\n",
        "end = 1\n",
        "step = 0.02\n",
        "X = torch.arange(start, end, step).unsqueeze(dim=1) # tensors and matrices are usually named with capitals, this is not one yet, but it will be later\n",
        "y = weight * X + bias\n",
        "\n",
        "X, y"
      ],
      "metadata": {
        "colab": {
          "base_uri": "https://localhost:8080/"
        },
        "id": "l8MdOeFQ7s4g",
        "outputId": "b472558f-ee3e-488b-a970-2fba5cc00891"
      },
      "execution_count": 2,
      "outputs": [
        {
          "output_type": "execute_result",
          "data": {
            "text/plain": [
              "(tensor([[0.0000],\n",
              "         [0.0200],\n",
              "         [0.0400],\n",
              "         [0.0600],\n",
              "         [0.0800],\n",
              "         [0.1000],\n",
              "         [0.1200],\n",
              "         [0.1400],\n",
              "         [0.1600],\n",
              "         [0.1800],\n",
              "         [0.2000],\n",
              "         [0.2200],\n",
              "         [0.2400],\n",
              "         [0.2600],\n",
              "         [0.2800],\n",
              "         [0.3000],\n",
              "         [0.3200],\n",
              "         [0.3400],\n",
              "         [0.3600],\n",
              "         [0.3800],\n",
              "         [0.4000],\n",
              "         [0.4200],\n",
              "         [0.4400],\n",
              "         [0.4600],\n",
              "         [0.4800],\n",
              "         [0.5000],\n",
              "         [0.5200],\n",
              "         [0.5400],\n",
              "         [0.5600],\n",
              "         [0.5800],\n",
              "         [0.6000],\n",
              "         [0.6200],\n",
              "         [0.6400],\n",
              "         [0.6600],\n",
              "         [0.6800],\n",
              "         [0.7000],\n",
              "         [0.7200],\n",
              "         [0.7400],\n",
              "         [0.7600],\n",
              "         [0.7800],\n",
              "         [0.8000],\n",
              "         [0.8200],\n",
              "         [0.8400],\n",
              "         [0.8600],\n",
              "         [0.8800],\n",
              "         [0.9000],\n",
              "         [0.9200],\n",
              "         [0.9400],\n",
              "         [0.9600],\n",
              "         [0.9800]]),\n",
              " tensor([[0.3000],\n",
              "         [0.3140],\n",
              "         [0.3280],\n",
              "         [0.3420],\n",
              "         [0.3560],\n",
              "         [0.3700],\n",
              "         [0.3840],\n",
              "         [0.3980],\n",
              "         [0.4120],\n",
              "         [0.4260],\n",
              "         [0.4400],\n",
              "         [0.4540],\n",
              "         [0.4680],\n",
              "         [0.4820],\n",
              "         [0.4960],\n",
              "         [0.5100],\n",
              "         [0.5240],\n",
              "         [0.5380],\n",
              "         [0.5520],\n",
              "         [0.5660],\n",
              "         [0.5800],\n",
              "         [0.5940],\n",
              "         [0.6080],\n",
              "         [0.6220],\n",
              "         [0.6360],\n",
              "         [0.6500],\n",
              "         [0.6640],\n",
              "         [0.6780],\n",
              "         [0.6920],\n",
              "         [0.7060],\n",
              "         [0.7200],\n",
              "         [0.7340],\n",
              "         [0.7480],\n",
              "         [0.7620],\n",
              "         [0.7760],\n",
              "         [0.7900],\n",
              "         [0.8040],\n",
              "         [0.8180],\n",
              "         [0.8320],\n",
              "         [0.8460],\n",
              "         [0.8600],\n",
              "         [0.8740],\n",
              "         [0.8880],\n",
              "         [0.9020],\n",
              "         [0.9160],\n",
              "         [0.9300],\n",
              "         [0.9440],\n",
              "         [0.9580],\n",
              "         [0.9720],\n",
              "         [0.9860]]))"
            ]
          },
          "metadata": {},
          "execution_count": 2
        }
      ]
    },
    {
      "cell_type": "markdown",
      "source": [
        "## Splitting data into training and test sets\n",
        "This is one of the most important concepts in machine learning in general.\n",
        "From the total data that you have, you always need to leave some, so be able to check/test that you model is working as expected.\n",
        "The training set should be 60-80% of the total data, and the testing set will be whatever is left.\n",
        "\n",
        "In some cases there is also a validation set, where you can tune your model, but that is not always used, and we will not be using this pattern.\n",
        "Validation set would be 10%-20% of your total data."
      ],
      "metadata": {
        "id": "Wkr_vHFL89uR"
      }
    },
    {
      "cell_type": "code",
      "source": [
        "# We will split our data into 80% training and 20% testing\n",
        "train_split = int(0.8 * len(X))\n",
        "X_train, y_train = X[:train_split], y[:train_split]\n",
        "X_test, y_test = X[train_split:], y[train_split:]\n",
        "len(X_train), len(y_train), len(X_test), len(y_test)"
      ],
      "metadata": {
        "colab": {
          "base_uri": "https://localhost:8080/"
        },
        "id": "UsU5rsgt9w4x",
        "outputId": "eb0444dc-a634-4536-f668-912f6f889948"
      },
      "execution_count": 3,
      "outputs": [
        {
          "output_type": "execute_result",
          "data": {
            "text/plain": [
              "(40, 40, 10, 10)"
            ]
          },
          "metadata": {},
          "execution_count": 3
        }
      ]
    },
    {
      "cell_type": "code",
      "source": [
        "def plot_predictions(train_data=X_train, train_labels=y_train, test_data=X_test, test_labels=y_test, predictions=None):\n",
        "  plt.figure(figsize=(5, 5))\n",
        "  plt.scatter(train_data, train_labels, c=\"b\", s=4, label=\"Training data\")\n",
        "  plt.scatter(test_data, test_labels, c=\"g\", s=4, label=\"Testing data\")\n",
        "\n",
        "  if predictions is not None:\n",
        "    plt.scatter(test_data, predictions, c=\"r\", s=4, label=\"Predictions\")\n",
        "\n",
        "  plt.legend(prop={\"size\": 10})"
      ],
      "metadata": {
        "id": "elevtzst_6Pg"
      },
      "execution_count": 4,
      "outputs": []
    },
    {
      "cell_type": "code",
      "source": [
        "plot_predictions()"
      ],
      "metadata": {
        "colab": {
          "base_uri": "https://localhost:8080/",
          "height": 445
        },
        "id": "4Y-M7R3gBLWv",
        "outputId": "8cb94e04-c47c-4d97-f7b6-2063c26e3b87"
      },
      "execution_count": 5,
      "outputs": [
        {
          "output_type": "display_data",
          "data": {
            "text/plain": [
              "<Figure size 500x500 with 1 Axes>"
            ],
            "image/png": "[encoded data removed]"
          },
          "metadata": {}
        }
      ]
    },
    {
      "cell_type": "markdown",
      "source": [
        "## Building the pytorch model\n"
      ],
      "metadata": {
        "id": "dVeb84WbCSN5"
      }
    },
    {
      "cell_type": "code",
      "source": [
        "class LinearRegressionModel(nn.Module): # almost everything in pytorch inherits from this\n",
        "  def __init__(self):\n",
        "    super().__init__()\n",
        "    self.weight = nn.Parameter(torch.rand(1, requires_grad=True, dtype=torch.float))\n",
        "    self.bias = nn.Parameter(torch.rand(1, requires_grad=True, dtype=torch.float))\n",
        "\n",
        "  def forward(self, x: torch.Tensor) -> torch.Tensor:\n",
        "    return self.weight * x + self.bias # This is the linear regression formulat y = mx + c\n",
        "\n",
        "\n",
        "torch.manual_seed(42)\n",
        "model_0 = LinearRegressionModel()\n",
        "model_0.state_dict()"
      ],
      "metadata": {
        "colab": {
          "base_uri": "https://localhost:8080/"
        },
        "id": "-zK31J_pD_hW",
        "outputId": "ab87ebe2-80e5-4aa2-ed75-9742e5e31e71"
      },
      "execution_count": 6,
      "outputs": [
        {
          "output_type": "execute_result",
          "data": {
            "text/plain": [
              "OrderedDict([('weight', tensor([0.8823])), ('bias', tensor([0.9150]))])"
            ]
          },
          "metadata": {},
          "execution_count": 6
        }
      ]
    },
    {
      "cell_type": "markdown",
      "source": [
        "## Making predictions\n",
        "You might have notices torch.inference_mode, what that does is it turns off the gradient for all of our parameters, we do this because in our case it's useless and it slows things down when using them. We do not need to make those calculations. There is also torch.no_grad but inference mode is faster.\n"
      ],
      "metadata": {
        "id": "zFWMSA_AUK15"
      }
    },
    {
      "cell_type": "code",
      "source": [
        "with torch.inference_mode():\n",
        "  y_preds = model_0(X_test)\n",
        "\n",
        "plot_predictions(predictions=y_preds)"
      ],
      "metadata": {
        "colab": {
          "base_uri": "https://localhost:8080/",
          "height": 445
        },
        "id": "KeKRZmztUOg2",
        "outputId": "87595fc3-4fda-4903-edcc-85d200e853bd"
      },
      "execution_count": 59,
      "outputs": [
        {
          "output_type": "display_data",
          "data": {
            "text/plain": [
              "<Figure size 500x500 with 1 Axes>"
            ],
            "image/png": "[encoded data removed]"
          },
          "metadata": {}
        }
      ]
    },
    {
      "cell_type": "markdown",
      "source": [
        "## Training the model\n",
        "One way to see how bad your model is, is by using the **loss function**, which is also called cost function or criterion.\n",
        "\n",
        "To improve our model we use an **optimizer**, which takes into account the loss of a model and adjusts the parameters. In other words the algorithm that we are going to use.\n",
        "\n",
        "We will be using the following algorithms to train our model in this example:\n",
        "1. Gradient descnet\n",
        "2. Backpropagation"
      ],
      "metadata": {
        "id": "BOO9avPmQ6-J"
      }
    },
    {
      "cell_type": "code",
      "source": [
        "# Setup a loss function\n",
        "loss_fn = nn.L1Loss()\n",
        "\n",
        "# Setup an optimizer\n",
        "optimizer = torch.optim.SGD(params=model_0.parameters(), lr=0.000000001)# lr = learning rate = arguably the most important hyper parameter (a parameter set manually by us)\n"
      ],
      "metadata": {
        "id": "Owqqgd2GRFuK"
      },
      "execution_count": 52,
      "outputs": []
    },
    {
      "cell_type": "markdown",
      "source": [
        "### Training loop\n",
        "Here is how a training loop is usually structured:\n",
        "1. Loop through the data\n",
        "2. Forward pass to make predictions on data - also called forward propagation\n",
        "3. Calculate the loss (compare forward pass predictions to ground turth table)\n",
        "4. Optimizer zero grad - the optimizer calculates gradients, and these gradients can accumulate if you don't reset it.\n",
        "5. Loss backward - move backwards through the network to calculate gradients of each parameters of our model with respects to the loss. (**This is back propagation**)\n",
        "6. Optimizer step - use the optimizer to adjust our model's parameters to try and improve the loss. (**This is gradient descent**)"
      ],
      "metadata": {
        "id": "b4xLzbuzf77Y"
      }
    },
    {
      "cell_type": "code",
      "source": [
        "# an epoch is one loop through the data... (This is a hyperparameter because we set it ourselves)\n",
        "epochs = 10\n",
        "\n",
        "# 1. Loop through the data\n",
        "for epoch in range(epochs):\n",
        "  # Set the model to training mode\n",
        "  model_0.train() # train mode sets all parameters that require gradients to require gradients\n",
        "  # 2. Forward pass\n",
        "  y_pred = model_0(X_train)\n",
        "  # 3. Cal loss\n",
        "  loss = loss_fn(y_pred, y_train);\n",
        "\n",
        "  # 4. Optimizer zero grad\n",
        "  optimizer.zero_grad()\n",
        "  # 5. Backpropagation\n",
        "  loss.backward()\n",
        "  # 6. Optimizer\n",
        "  optimizer.step()\n",
        "\n",
        "  model_0.eval()# this turns off gradient tracking.\n",
        "\n",
        "model_0.bias"
      ],
      "metadata": {
        "id": "AFuXhX9nf7ij",
        "colab": {
          "base_uri": "https://localhost:8080/"
        },
        "outputId": "b5f5577c-ab2e-4c9d-c45b-e5e494ccec4f"
      },
      "execution_count": 62,
      "outputs": [
        {
          "output_type": "execute_result",
          "data": {
            "text/plain": [
              "Parameter containing:\n",
              "tensor([0.3000], requires_grad=True)"
            ]
          },
          "metadata": {},
          "execution_count": 62
        }
      ]
    }
  ]
}
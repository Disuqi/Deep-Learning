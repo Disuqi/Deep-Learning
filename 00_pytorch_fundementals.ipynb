{
  "nbformat": 4,
  "nbformat_minor": 0,
  "metadata": {
    "colab": {
      "provenance": [],
      "toc_visible": true,
      "gpuType": "T4"
    },
    "kernelspec": {
      "name": "python3",
      "display_name": "Python 3"
    },
    "language_info": {
      "name": "python"
    },
    "accelerator": "GPU"
  },
  "cells": [
    {
      "cell_type": "code",
      "source": [
        "import torch\n",
        "import pandas as pd\n",
        "import numpy as np\n",
        "import matplotlib.pyplot as plt"
      ],
      "metadata": {
        "id": "2sgFeMCH2iHz"
      },
      "execution_count": 1,
      "outputs": []
    },
    {
      "cell_type": "markdown",
      "source": [
        "# Introduction to Tensors\n",
        "## Creating Tensors\n",
        "PyTorch tensors are created using <a href=\"https://pytorch.org/docs/stable/tensors.html\">`torch.Tensor()`</a>\n",
        "\n"
      ],
      "metadata": {
        "id": "5Jgs2-LX2xyX"
      }
    },
    {
      "cell_type": "code",
      "source": [
        "# scalar\n",
        "scalar = torch.tensor(7)\n",
        "print(scalar)\n",
        "vector = torch.tensor([1, 2, 3])\n",
        "print(vector)\n",
        "# when making a matrix each subarray has to be the same size, you cannot have [[1], [1, 2], [1]]\n",
        "matrix = torch.tensor([[1,2], [3, 4]])\n",
        "print(matrix)\n",
        "# anything with more dimensions that a matrix is called a tensor\n",
        "tensor = torch.tensor([[[1, 2, 3], [1, 2, 3], [1, 2, 3]]])\n",
        "print(tensor)"
      ],
      "metadata": {
        "colab": {
          "base_uri": "https://localhost:8080/"
        },
        "id": "-Ldpu4zT28c3",
        "outputId": "afb787cd-89c3-44e0-d076-976647aa2d4b"
      },
      "execution_count": 2,
      "outputs": [
        {
          "output_type": "stream",
          "name": "stdout",
          "text": [
            "tensor(7)\n",
            "tensor([1, 2, 3])\n",
            "tensor([[1, 2],\n",
            "        [3, 4]])\n",
            "tensor([[[1, 2, 3],\n",
            "         [1, 2, 3],\n",
            "         [1, 2, 3]]])\n"
          ]
        }
      ]
    },
    {
      "cell_type": "markdown",
      "source": [
        "To get the value as an int or array and not a tensor, you can use <a href=\"https://pytorch.org/docs/stable/generated/torch.Tensor.item.html#torch-tensor-item\">`item()`</a> for tensors with a single value or <a href=\"https://pytorch.org/docs/stable/generated/torch.Tensor.tolist.html#torch.Tensor.tolist\">`tolist()`</a> for more complex tensors."
      ],
      "metadata": {
        "id": "MwAfbORt5JAE"
      }
    },
    {
      "cell_type": "code",
      "source": [
        "print(scalar.item())\n",
        "print(vector.tolist())\n",
        "print(matrix.tolist())\n",
        "print(tensor.tolist())"
      ],
      "metadata": {
        "colab": {
          "base_uri": "https://localhost:8080/"
        },
        "id": "thVlvMSP5OKh",
        "outputId": "4ba96d2c-fb93-439e-89a4-e206d1bc8c7b"
      },
      "execution_count": 3,
      "outputs": [
        {
          "output_type": "stream",
          "name": "stdout",
          "text": [
            "7\n",
            "[1, 2, 3]\n",
            "[[1, 2], [3, 4]]\n",
            "[[[1, 2, 3], [1, 2, 3], [1, 2, 3]]]\n"
          ]
        }
      ]
    },
    {
      "cell_type": "markdown",
      "source": [
        "Use tensor.ndim to check the dimensions of the tensor."
      ],
      "metadata": {
        "id": "qy6AKTm14f8f"
      }
    },
    {
      "cell_type": "code",
      "source": [
        "print(scalar.ndim)\n",
        "print(vector.ndim)\n",
        "print(matrix.ndim)\n",
        "print(tensor.ndim)"
      ],
      "metadata": {
        "colab": {
          "base_uri": "https://localhost:8080/"
        },
        "id": "XwlqVfck3_pk",
        "outputId": "011488b0-2785-4fe5-e502-c8edf76c40f6"
      },
      "execution_count": 4,
      "outputs": [
        {
          "output_type": "stream",
          "name": "stdout",
          "text": [
            "0\n",
            "1\n",
            "2\n",
            "3\n"
          ]
        }
      ]
    },
    {
      "cell_type": "markdown",
      "source": [
        "To see how many elements it contains use shape"
      ],
      "metadata": {
        "id": "GuaSZV-07qQj"
      }
    },
    {
      "cell_type": "code",
      "source": [
        "print(scalar.shape)\n",
        "print(vector.shape)\n",
        "# the result for the following will be [2, 2] which means 2 arrays with 2 elements each\n",
        "print(matrix.shape)\n",
        "# the result for the following will be [1, 3, 3] which means one array with 3 sub arrays, with 3 elements each.\n",
        "print(tensor.shape)"
      ],
      "metadata": {
        "colab": {
          "base_uri": "https://localhost:8080/"
        },
        "id": "jnXZN5LB7NuL",
        "outputId": "64f52b97-eaf2-4e28-e083-340e2ee9185e"
      },
      "execution_count": 5,
      "outputs": [
        {
          "output_type": "stream",
          "name": "stdout",
          "text": [
            "torch.Size([])\n",
            "torch.Size([3])\n",
            "torch.Size([2, 2])\n",
            "torch.Size([1, 3, 3])\n"
          ]
        }
      ]
    },
    {
      "cell_type": "markdown",
      "source": [
        "## Random tensors\n",
        "### Why random tensors?\n",
        "Random tensors are important because the way many neural networks learn is that they start with tensors full of random numbers and then adjust those numbers to better represet the data.\n",
        "#### How a neural networks works\n",
        "`Start with random numbers => Look at Data => Update random numbers => Look at data => Update random numbers...`\n",
        "#### How to create a random tensor\n",
        "You call <a href=\"https://pytorch.org/docs/stable/generated/torch.rand.html#torch.rand\">`torch.rand()`</a> and pass in the size/shape of the tensor as params, in the following example code we will create a tensor with the same size as the one we had earlier."
      ],
      "metadata": {
        "id": "Ww5JrAtCDpuR"
      }
    },
    {
      "cell_type": "code",
      "source": [
        "\n",
        "randomTensor = torch.rand(1, 3, 3)\n",
        "print(randomTensor)"
      ],
      "metadata": {
        "colab": {
          "base_uri": "https://localhost:8080/"
        },
        "id": "xDV-Oth_E52j",
        "outputId": "9fbbf9a0-3c3f-4915-99b5-a526e49761ef"
      },
      "execution_count": 6,
      "outputs": [
        {
          "output_type": "stream",
          "name": "stdout",
          "text": [
            "tensor([[[0.8146, 0.2097, 0.0613],\n",
            "         [0.3419, 0.3797, 0.1965],\n",
            "         [0.1912, 0.4321, 0.8923]]])\n"
          ]
        }
      ]
    },
    {
      "cell_type": "markdown",
      "source": [
        "### Data to tensor\n",
        "Almost anything can be represented as data. For example images are usually 3 dimensional tensors, they have a dimension for height, one for witdth, and one for the color channels composed of red, green and blue. So let's say we want to create an image of size 224x224 here is what you would do."
      ],
      "metadata": {
        "id": "rJwbZF21Ha-M"
      }
    },
    {
      "cell_type": "code",
      "source": [
        "randomImageTensor = torch.rand(224, 224, 3)\n",
        "randomImageTensor"
      ],
      "metadata": {
        "colab": {
          "base_uri": "https://localhost:8080/"
        },
        "id": "C2HgT6-5H4Hj",
        "outputId": "a637c759-7dc0-473a-8d1a-7469e363f7f1"
      },
      "execution_count": 7,
      "outputs": [
        {
          "output_type": "execute_result",
          "data": {
            "text/plain": [
              "tensor([[[0.6648, 0.6860, 0.0954],\n",
              "         [0.7584, 0.0569, 0.7815],\n",
              "         [0.2725, 0.7097, 0.6243],\n",
              "         ...,\n",
              "         [0.9027, 0.1223, 0.6513],\n",
              "         [0.7032, 0.5389, 0.1296],\n",
              "         [0.9399, 0.4005, 0.8321]],\n",
              "\n",
              "        [[0.6462, 0.5100, 0.8014],\n",
              "         [0.7859, 0.5020, 0.1791],\n",
              "         [0.5177, 0.9904, 0.8914],\n",
              "         ...,\n",
              "         [0.6367, 0.1961, 0.1284],\n",
              "         [0.9896, 0.8159, 0.5497],\n",
              "         [0.5358, 0.2593, 0.5331]],\n",
              "\n",
              "        [[0.5832, 0.9838, 0.1349],\n",
              "         [0.9396, 0.8903, 0.7636],\n",
              "         [0.7055, 0.9801, 0.2040],\n",
              "         ...,\n",
              "         [0.1778, 0.5353, 0.6465],\n",
              "         [0.4946, 0.2739, 0.6257],\n",
              "         [0.5057, 0.2838, 0.6095]],\n",
              "\n",
              "        ...,\n",
              "\n",
              "        [[0.4726, 0.3106, 0.3105],\n",
              "         [0.0317, 0.4078, 0.1970],\n",
              "         [0.9271, 0.9292, 0.6788],\n",
              "         ...,\n",
              "         [0.4692, 0.3973, 0.1905],\n",
              "         [0.6793, 0.8476, 0.5647],\n",
              "         [0.8956, 0.6769, 0.7057]],\n",
              "\n",
              "        [[0.5211, 0.7964, 0.6447],\n",
              "         [0.9922, 0.0738, 0.7460],\n",
              "         [0.4809, 0.2642, 0.3243],\n",
              "         ...,\n",
              "         [0.4308, 0.3841, 0.8733],\n",
              "         [0.1665, 0.3925, 0.5126],\n",
              "         [0.3162, 0.9115, 0.4963]],\n",
              "\n",
              "        [[0.5936, 0.6250, 0.9203],\n",
              "         [0.6501, 0.3815, 0.1436],\n",
              "         [0.2971, 0.8067, 0.9802],\n",
              "         ...,\n",
              "         [0.7911, 0.0584, 0.3901],\n",
              "         [0.9576, 0.7155, 0.2247],\n",
              "         [0.9039, 0.7002, 0.0336]]])"
            ]
          },
          "metadata": {},
          "execution_count": 7
        }
      ]
    },
    {
      "cell_type": "markdown",
      "source": [
        "### Zeros and ones"
      ],
      "metadata": {
        "id": "cuCaw1rVJB9a"
      }
    },
    {
      "cell_type": "code",
      "source": [
        "zeros = torch.zeros(3, 4)\n",
        "zeros"
      ],
      "metadata": {
        "colab": {
          "base_uri": "https://localhost:8080/"
        },
        "id": "UJqBVERLJMa4",
        "outputId": "44cb852c-c819-401a-d5aa-14f5d1d80016"
      },
      "execution_count": 8,
      "outputs": [
        {
          "output_type": "execute_result",
          "data": {
            "text/plain": [
              "tensor([[0., 0., 0., 0.],\n",
              "        [0., 0., 0., 0.],\n",
              "        [0., 0., 0., 0.]])"
            ]
          },
          "metadata": {},
          "execution_count": 8
        }
      ]
    },
    {
      "cell_type": "code",
      "source": [
        "ones = torch.ones(3, 4)\n",
        "ones"
      ],
      "metadata": {
        "colab": {
          "base_uri": "https://localhost:8080/"
        },
        "id": "8kE9heBEJb1Y",
        "outputId": "a96932c3-0b07-4107-9de9-d21f3f80eaed"
      },
      "execution_count": 9,
      "outputs": [
        {
          "output_type": "execute_result",
          "data": {
            "text/plain": [
              "tensor([[1., 1., 1., 1.],\n",
              "        [1., 1., 1., 1.],\n",
              "        [1., 1., 1., 1.]])"
            ]
          },
          "metadata": {},
          "execution_count": 9
        }
      ]
    },
    {
      "cell_type": "markdown",
      "source": [
        "To check the data type of your tensor use `Tensor.dtype`, by default that is torch.float32"
      ],
      "metadata": {
        "id": "Xjtrecb6Jj0R"
      }
    },
    {
      "cell_type": "code",
      "source": [
        "ones.dtype"
      ],
      "metadata": {
        "colab": {
          "base_uri": "https://localhost:8080/"
        },
        "id": "_E6Yj4SaJrpD",
        "outputId": "3b7723ab-84c2-43ca-cd1a-91ec10a862b1"
      },
      "execution_count": 10,
      "outputs": [
        {
          "output_type": "execute_result",
          "data": {
            "text/plain": [
              "torch.float32"
            ]
          },
          "metadata": {},
          "execution_count": 10
        }
      ]
    },
    {
      "cell_type": "markdown",
      "source": [
        "You can also turn any tensor into zeros"
      ],
      "metadata": {
        "id": "vXA3mEwoLfOj"
      }
    },
    {
      "cell_type": "code",
      "source": [
        "torch.zeros_like(input=tensor), torch.zeros_like(input=randomImageTensor)"
      ],
      "metadata": {
        "colab": {
          "base_uri": "https://localhost:8080/"
        },
        "id": "ELH7JgZ1LhcZ",
        "outputId": "62e59a04-043c-4708-c0d7-378a4f867a66"
      },
      "execution_count": 11,
      "outputs": [
        {
          "output_type": "execute_result",
          "data": {
            "text/plain": [
              "(tensor([[[0, 0, 0],\n",
              "          [0, 0, 0],\n",
              "          [0, 0, 0]]]),\n",
              " tensor([[[0., 0., 0.],\n",
              "          [0., 0., 0.],\n",
              "          [0., 0., 0.],\n",
              "          ...,\n",
              "          [0., 0., 0.],\n",
              "          [0., 0., 0.],\n",
              "          [0., 0., 0.]],\n",
              " \n",
              "         [[0., 0., 0.],\n",
              "          [0., 0., 0.],\n",
              "          [0., 0., 0.],\n",
              "          ...,\n",
              "          [0., 0., 0.],\n",
              "          [0., 0., 0.],\n",
              "          [0., 0., 0.]],\n",
              " \n",
              "         [[0., 0., 0.],\n",
              "          [0., 0., 0.],\n",
              "          [0., 0., 0.],\n",
              "          ...,\n",
              "          [0., 0., 0.],\n",
              "          [0., 0., 0.],\n",
              "          [0., 0., 0.]],\n",
              " \n",
              "         ...,\n",
              " \n",
              "         [[0., 0., 0.],\n",
              "          [0., 0., 0.],\n",
              "          [0., 0., 0.],\n",
              "          ...,\n",
              "          [0., 0., 0.],\n",
              "          [0., 0., 0.],\n",
              "          [0., 0., 0.]],\n",
              " \n",
              "         [[0., 0., 0.],\n",
              "          [0., 0., 0.],\n",
              "          [0., 0., 0.],\n",
              "          ...,\n",
              "          [0., 0., 0.],\n",
              "          [0., 0., 0.],\n",
              "          [0., 0., 0.]],\n",
              " \n",
              "         [[0., 0., 0.],\n",
              "          [0., 0., 0.],\n",
              "          [0., 0., 0.],\n",
              "          ...,\n",
              "          [0., 0., 0.],\n",
              "          [0., 0., 0.],\n",
              "          [0., 0., 0.]]]))"
            ]
          },
          "metadata": {},
          "execution_count": 11
        }
      ]
    },
    {
      "cell_type": "markdown",
      "source": [
        "### Creating a range of tensors"
      ],
      "metadata": {
        "id": "5Qe3KjTaKJO-"
      }
    },
    {
      "cell_type": "code",
      "source": [
        "oneToTen = torch.arange(start=1, end=11, step=1)# does not include 11, by default the step is 1\n",
        "twoTimesTable = torch.arange(start=2, end=21, step=2)\n",
        "oneToTen, twoTimesTable"
      ],
      "metadata": {
        "colab": {
          "base_uri": "https://localhost:8080/"
        },
        "id": "WfHafU4TKI69",
        "outputId": "c9cff809-a529-4b01-9a77-4e4c693e24ef"
      },
      "execution_count": 12,
      "outputs": [
        {
          "output_type": "execute_result",
          "data": {
            "text/plain": [
              "(tensor([ 1,  2,  3,  4,  5,  6,  7,  8,  9, 10]),\n",
              " tensor([ 2,  4,  6,  8, 10, 12, 14, 16, 18, 20]))"
            ]
          },
          "metadata": {},
          "execution_count": 12
        }
      ]
    },
    {
      "cell_type": "markdown",
      "source": [
        "## Tensor Params\n"
      ],
      "metadata": {
        "id": "-LbGJUYsL9I6"
      }
    },
    {
      "cell_type": "markdown",
      "source": [
        "Tensors with different shapes, or/and device cannot be used in the same operation, for example multiplications. Sometimes you might get errors if they have different data types too."
      ],
      "metadata": {
        "id": "wCQVBX6FN3K_"
      }
    },
    {
      "cell_type": "code",
      "source": [
        "float32Tensor = torch.tensor([[1.0], [2.0], [3.0]],\n",
        "                             dtype=None,# data type, float32 by default\n",
        "                             device=None,# what device it's on\n",
        "                             requires_grad=False)# if it requires a gradient to be calculated\n",
        "try:\n",
        "  matrix * float32Tensor\n",
        "except RuntimeError as e:\n",
        "  print(float32Tensor.shape)\n",
        "  print(matrix.shape)\n",
        "  print(e)"
      ],
      "metadata": {
        "colab": {
          "base_uri": "https://localhost:8080/"
        },
        "id": "p6ACm2BOMERz",
        "outputId": "01cf3252-4c74-461b-92f6-78a9ac6768af"
      },
      "execution_count": 13,
      "outputs": [
        {
          "output_type": "stream",
          "name": "stdout",
          "text": [
            "torch.Size([3, 1])\n",
            "torch.Size([2, 2])\n",
            "The size of tensor a (2) must match the size of tensor b (3) at non-singleton dimension 0\n"
          ]
        }
      ]
    },
    {
      "cell_type": "code",
      "source": [
        "randomIntTensor = torch.randint(low=0, high=2, size=[1, 2, 3])\n",
        "randomFloatTensor = torch.rand(2, 3, 3, dtype=torch.float16) # this function cannot be used for ints\n",
        "randomIntTensor, randomFloatTensor"
      ],
      "metadata": {
        "colab": {
          "base_uri": "https://localhost:8080/"
        },
        "id": "OAw6BxiIX92l",
        "outputId": "8f29e92a-f67f-42fd-8450-4aa0a595b79d"
      },
      "execution_count": 14,
      "outputs": [
        {
          "output_type": "execute_result",
          "data": {
            "text/plain": [
              "(tensor([[[0, 0, 1],\n",
              "          [0, 1, 1]]]),\n",
              " tensor([[[0.0698, 0.7837, 0.0688],\n",
              "          [0.7710, 0.4668, 0.3008],\n",
              "          [0.8281, 0.8896, 0.4521]],\n",
              " \n",
              "         [[0.8462, 0.5195, 0.3115],\n",
              "          [0.6089, 0.4424, 0.8462],\n",
              "          [0.2114, 0.5679, 0.3247]]], dtype=torch.float16))"
            ]
          },
          "metadata": {},
          "execution_count": 14
        }
      ]
    },
    {
      "cell_type": "markdown",
      "source": [
        "## Manipulating Tensors\n",
        "You can only add, subtract, multiply and divide, two tensors with the same shape, or if one of the tensors has no dimensions (it's just one number).\n",
        "\n",
        "However, there is an exception, this is when you multiply tensors, in this case they can be different shapes, but there are limitations; look into matrix multiplications.\n",
        "### Addittion"
      ],
      "metadata": {
        "id": "cPPkFzhFeJlm"
      }
    },
    {
      "cell_type": "code",
      "source": [
        "tensor = torch.tensor([1, 2, 3])\n",
        "second_tensor = torch.tensor([4, 5, 6])\n",
        "tensor + 10, torch.add(tensor, 10), tensor + second_tensor, torch.add(tensor, second_tensor)"
      ],
      "metadata": {
        "colab": {
          "base_uri": "https://localhost:8080/"
        },
        "id": "PBn9NqU9eJX5",
        "outputId": "009cfd61-d770-4d05-c009-5eab9f61b3ae"
      },
      "execution_count": 15,
      "outputs": [
        {
          "output_type": "execute_result",
          "data": {
            "text/plain": [
              "(tensor([11, 12, 13]),\n",
              " tensor([11, 12, 13]),\n",
              " tensor([5, 7, 9]),\n",
              " tensor([5, 7, 9]))"
            ]
          },
          "metadata": {},
          "execution_count": 15
        }
      ]
    },
    {
      "cell_type": "markdown",
      "source": [
        "### Subtraction"
      ],
      "metadata": {
        "id": "Fkq_tj29jWIV"
      }
    },
    {
      "cell_type": "code",
      "source": [
        "tensor - 10, torch.sub(tensor, 10), tensor - second_tensor, torch.sub(tensor, second_tensor)"
      ],
      "metadata": {
        "colab": {
          "base_uri": "https://localhost:8080/"
        },
        "id": "hHApdC6qfZ5-",
        "outputId": "eda6d309-3201-42de-9f50-e2710278c66b"
      },
      "execution_count": 16,
      "outputs": [
        {
          "output_type": "execute_result",
          "data": {
            "text/plain": [
              "(tensor([-9, -8, -7]),\n",
              " tensor([-9, -8, -7]),\n",
              " tensor([-3, -3, -3]),\n",
              " tensor([-3, -3, -3]))"
            ]
          },
          "metadata": {},
          "execution_count": 16
        }
      ]
    },
    {
      "cell_type": "markdown",
      "source": [
        "### Division"
      ],
      "metadata": {
        "id": "xccbqoGIjcr9"
      }
    },
    {
      "cell_type": "code",
      "source": [
        "tensor / 10, torch.div(tensor, 10), tensor / second_tensor, torch.div(tensor, second_tensor)"
      ],
      "metadata": {
        "colab": {
          "base_uri": "https://localhost:8080/"
        },
        "id": "nIsnK-GsfiwH",
        "outputId": "06e10e05-515f-4efe-b33e-6895d741c85b"
      },
      "execution_count": 17,
      "outputs": [
        {
          "output_type": "execute_result",
          "data": {
            "text/plain": [
              "(tensor([0.1000, 0.2000, 0.3000]),\n",
              " tensor([0.1000, 0.2000, 0.3000]),\n",
              " tensor([0.2500, 0.4000, 0.5000]),\n",
              " tensor([0.2500, 0.4000, 0.5000]))"
            ]
          },
          "metadata": {},
          "execution_count": 17
        }
      ]
    },
    {
      "cell_type": "markdown",
      "source": [
        "### Element wise multiplication"
      ],
      "metadata": {
        "id": "qAYyxAdGjhGw"
      }
    },
    {
      "cell_type": "code",
      "source": [
        "tensor * 10, torch.mul(tensor, 10), tensor * second_tensor, torch.mul(tensor, second_tensor)"
      ],
      "metadata": {
        "colab": {
          "base_uri": "https://localhost:8080/"
        },
        "id": "du3vNzbpfGJY",
        "outputId": "42908fc5-8d1e-446a-80db-0357ca90fda3"
      },
      "execution_count": 18,
      "outputs": [
        {
          "output_type": "execute_result",
          "data": {
            "text/plain": [
              "(tensor([10, 20, 30]),\n",
              " tensor([10, 20, 30]),\n",
              " tensor([ 4, 10, 18]),\n",
              " tensor([ 4, 10, 18]))"
            ]
          },
          "metadata": {},
          "execution_count": 18
        }
      ]
    },
    {
      "cell_type": "markdown",
      "source": [
        "### Matrix multiplication\n",
        "When multiplying matricies it is important to know that:\n",
        "1. The **inner dimensions** must match:\n",
        "  - `(3, 2) @ (3, 2) won't work`\n",
        "  - `(2, 3) @ (3, 2) will work`\n",
        "  - `(3, 2) @ (2, 3) will work`\n",
        "2. The resulting matrix has the shape of the **outer dimensions**:\n",
        "  - `(2, 3) @ (3, 2) => (2, 2)`\n",
        "  - `(3, 2) @ (2, 3) => (3, 3)`\n",
        "  - `(3, 2) @ (2, 2) => (3, 2)`"
      ],
      "metadata": {
        "id": "4dtoTX_XjlYf"
      }
    },
    {
      "cell_type": "code",
      "source": [
        "third_tensor = torch.tensor([[1, 2, 3], [1, 2, 3], [1, 2, 3]])\n",
        "print(tensor.shape)\n",
        "print(second_tensor.shape)\n",
        "print(third_tensor.shape)\n",
        "print(tensor @ third_tensor)\n",
        "print(tensor @ second_tensor)\n",
        "print(torch.matmul(tensor, third_tensor))\n",
        "print(torch.matmul(tensor, second_tensor))\n",
        "print(torch.matmul(tensor, third_tensor).shape)\n",
        "print(torch.matmul(tensor, second_tensor).shape)"
      ],
      "metadata": {
        "colab": {
          "base_uri": "https://localhost:8080/"
        },
        "id": "8jSrgCrVikMU",
        "outputId": "6b4da540-587e-4626-9732-aebbb584067c"
      },
      "execution_count": 19,
      "outputs": [
        {
          "output_type": "stream",
          "name": "stdout",
          "text": [
            "torch.Size([3])\n",
            "torch.Size([3])\n",
            "torch.Size([3, 3])\n",
            "tensor([ 6, 12, 18])\n",
            "tensor(32)\n",
            "tensor([ 6, 12, 18])\n",
            "tensor(32)\n",
            "torch.Size([3])\n",
            "torch.Size([])\n"
          ]
        }
      ]
    },
    {
      "cell_type": "code",
      "source": [
        "randMatMul = torch.mm(torch.rand(2, 10), torch.rand(10, 7)) # mm is an alias for matmul\n",
        "randMatMul.shape"
      ],
      "metadata": {
        "colab": {
          "base_uri": "https://localhost:8080/"
        },
        "id": "0sdKAtks2Nkv",
        "outputId": "d0b70f5a-1fb0-4101-b52e-a8e5aad6658e"
      },
      "execution_count": 20,
      "outputs": [
        {
          "output_type": "execute_result",
          "data": {
            "text/plain": [
              "torch.Size([2, 7])"
            ]
          },
          "metadata": {},
          "execution_count": 20
        }
      ]
    },
    {
      "cell_type": "markdown",
      "source": [
        "## Common error in deep learning\n",
        "When multiplying matricies, you might have two matricies with a shape of 3x2 3x2, you cannot multiply these two, but there is a work around, and this is to transpose one of them to make it a 2x3 matrix."
      ],
      "metadata": {
        "id": "EpLcoJzv3-vU"
      }
    },
    {
      "cell_type": "code",
      "source": [
        "tensor_A = torch.rand(3, 2)\n",
        "tensor_B = torch.rand(3, 2)\n",
        "try:\n",
        "  torch.mm(tensor_A, tensor_B)\n",
        "except RuntimeError as e:\n",
        "  print(e)\n",
        "print(\"tensor_B:\")\n",
        "print(tensor_B)\n",
        "print(tensor_B.shape)\n",
        "print(\"tensor_B.T (transposed):\")\n",
        "print(tensor_B.T)\n",
        "print(tensor_B.T.shape)\n",
        "print(\"mm result:\")\n",
        "print(torch.mm(tensor_A, tensor_B.T))\n",
        "print(torch.mm(tensor_A, tensor_B.T).shape)"
      ],
      "metadata": {
        "colab": {
          "base_uri": "https://localhost:8080/"
        },
        "id": "hd0_p-aI4Wph",
        "outputId": "0cfbd259-ce11-472f-cbee-f390e3b53703"
      },
      "execution_count": 21,
      "outputs": [
        {
          "output_type": "stream",
          "name": "stdout",
          "text": [
            "mat1 and mat2 shapes cannot be multiplied (3x2 and 3x2)\n",
            "tensor_B:\n",
            "tensor([[0.5860, 0.5275],\n",
            "        [0.3997, 0.4217],\n",
            "        [0.3935, 0.9402]])\n",
            "torch.Size([3, 2])\n",
            "tensor_B.T (transposed):\n",
            "tensor([[0.5860, 0.3997, 0.3935],\n",
            "        [0.5275, 0.4217, 0.9402]])\n",
            "torch.Size([2, 3])\n",
            "mm result:\n",
            "tensor([[0.4576, 0.3534, 0.6979],\n",
            "        [0.2457, 0.1729, 0.2151],\n",
            "        [0.3973, 0.2763, 0.3166]])\n",
            "torch.Size([3, 3])\n"
          ]
        }
      ]
    },
    {
      "cell_type": "markdown",
      "source": [
        "## Finding the min, max, mean, sum... of a Tensor (tensor aggregation)\n"
      ],
      "metadata": {
        "id": "cjqZD5Jj6Xgn"
      }
    },
    {
      "cell_type": "code",
      "source": [
        "x = torch.arange(1, 100, 10)\n",
        "print(x)\n",
        "print(torch.min(x))\n",
        "print(x.min())\n",
        "print(torch.max(x))\n",
        "print(x.max())\n",
        "print(torch.mean(x, dtype=torch.float16))\n",
        "print(torch.mean(x.type(torch.float16)))\n",
        "print(x.type(torch.float16).mean())\n",
        "print(torch.sum(x))\n",
        "print(x.sum())"
      ],
      "metadata": {
        "colab": {
          "base_uri": "https://localhost:8080/"
        },
        "id": "W37q01aj6gwG",
        "outputId": "9564b482-bd2a-41e0-d6b1-4161d5f3102a"
      },
      "execution_count": 22,
      "outputs": [
        {
          "output_type": "stream",
          "name": "stdout",
          "text": [
            "tensor([ 1, 11, 21, 31, 41, 51, 61, 71, 81, 91])\n",
            "tensor(1)\n",
            "tensor(1)\n",
            "tensor(91)\n",
            "tensor(91)\n",
            "tensor(46., dtype=torch.float16)\n",
            "tensor(46., dtype=torch.float16)\n",
            "tensor(46., dtype=torch.float16)\n",
            "tensor(460)\n",
            "tensor(460)\n"
          ]
        }
      ]
    },
    {
      "cell_type": "code",
      "source": [
        "# You also can easily find the index of the min and max values\n",
        "x.argmin(), x.argmax()"
      ],
      "metadata": {
        "colab": {
          "base_uri": "https://localhost:8080/"
        },
        "id": "L-s70Tfk8H7m",
        "outputId": "51def015-9549-41ac-e863-eb38d264bd28"
      },
      "execution_count": 23,
      "outputs": [
        {
          "output_type": "execute_result",
          "data": {
            "text/plain": [
              "(tensor(0), tensor(9))"
            ]
          },
          "metadata": {},
          "execution_count": 23
        }
      ]
    },
    {
      "cell_type": "markdown",
      "source": [
        "## Reshaping, Stacking, Squeezing and unsqueezing"
      ],
      "metadata": {
        "id": "YT2Q-cRB86bW"
      }
    },
    {
      "cell_type": "code",
      "source": [
        "x = torch.arange(1., 10.)\n",
        "x, x.shape"
      ],
      "metadata": {
        "colab": {
          "base_uri": "https://localhost:8080/"
        },
        "id": "Jro46OIa9B0X",
        "outputId": "7df4ea98-95db-4cf6-934b-ef3018bc6649"
      },
      "execution_count": 24,
      "outputs": [
        {
          "output_type": "execute_result",
          "data": {
            "text/plain": [
              "(tensor([1., 2., 3., 4., 5., 6., 7., 8., 9.]), torch.Size([9]))"
            ]
          },
          "metadata": {},
          "execution_count": 24
        }
      ]
    },
    {
      "cell_type": "code",
      "source": [
        "y = torch.rand(3, 2, 1, 4)\n",
        "y, y.shape"
      ],
      "metadata": {
        "colab": {
          "base_uri": "https://localhost:8080/"
        },
        "id": "If0cTwLU-cRK",
        "outputId": "6c28e0ea-b772-4f70-9729-748416eb49cc"
      },
      "execution_count": 25,
      "outputs": [
        {
          "output_type": "execute_result",
          "data": {
            "text/plain": [
              "(tensor([[[[0.5185, 0.3782, 0.6946, 0.9748]],\n",
              " \n",
              "          [[0.2983, 0.0036, 0.1538, 0.3116]]],\n",
              " \n",
              " \n",
              "         [[[0.1996, 0.0413, 0.6894, 0.0167]],\n",
              " \n",
              "          [[0.4308, 0.2700, 0.4402, 0.8357]]],\n",
              " \n",
              " \n",
              "         [[[0.9163, 0.5511, 0.3513, 0.3246]],\n",
              " \n",
              "          [[0.1550, 0.6656, 0.3225, 0.3507]]]]),\n",
              " torch.Size([3, 2, 1, 4]))"
            ]
          },
          "metadata": {},
          "execution_count": 25
        }
      ]
    },
    {
      "cell_type": "markdown",
      "source": [
        "### Reshaping\n",
        "Reshapes an input tensor to a defined shape"
      ],
      "metadata": {
        "id": "0daqWY0z9-79"
      }
    },
    {
      "cell_type": "code",
      "source": [
        "x_reshaped = x.reshape(1, 9)\n",
        "x_reshaped, x_reshaped.shape"
      ],
      "metadata": {
        "colab": {
          "base_uri": "https://localhost:8080/"
        },
        "id": "-Ww5sXEI959p",
        "outputId": "00b2b13b-706b-4160-ef6a-4e33232bcc34"
      },
      "execution_count": 26,
      "outputs": [
        {
          "output_type": "execute_result",
          "data": {
            "text/plain": [
              "(tensor([[1., 2., 3., 4., 5., 6., 7., 8., 9.]]), torch.Size([1, 9]))"
            ]
          },
          "metadata": {},
          "execution_count": 26
        }
      ]
    },
    {
      "cell_type": "code",
      "source": [
        "x_reshaped = x.reshape(9, 1)\n",
        "x_reshaped, x_reshaped.shape"
      ],
      "metadata": {
        "colab": {
          "base_uri": "https://localhost:8080/"
        },
        "id": "KdXXudcj-Szc",
        "outputId": "8ced09ee-c891-4e9c-cbfe-ab1f6ee1ece7"
      },
      "execution_count": 27,
      "outputs": [
        {
          "output_type": "execute_result",
          "data": {
            "text/plain": [
              "(tensor([[1.],\n",
              "         [2.],\n",
              "         [3.],\n",
              "         [4.],\n",
              "         [5.],\n",
              "         [6.],\n",
              "         [7.],\n",
              "         [8.],\n",
              "         [9.]]),\n",
              " torch.Size([9, 1]))"
            ]
          },
          "metadata": {},
          "execution_count": 27
        }
      ]
    },
    {
      "cell_type": "code",
      "source": [
        "y_reshaped = y.reshape(1, 2, 3, 4)\n",
        "y_reshaped, y_reshaped.shape"
      ],
      "metadata": {
        "colab": {
          "base_uri": "https://localhost:8080/"
        },
        "id": "a5HNrO7T-jhc",
        "outputId": "f32e10d8-e79e-4a2e-d108-978ca518593a"
      },
      "execution_count": 28,
      "outputs": [
        {
          "output_type": "execute_result",
          "data": {
            "text/plain": [
              "(tensor([[[[0.5185, 0.3782, 0.6946, 0.9748],\n",
              "           [0.2983, 0.0036, 0.1538, 0.3116],\n",
              "           [0.1996, 0.0413, 0.6894, 0.0167]],\n",
              " \n",
              "          [[0.4308, 0.2700, 0.4402, 0.8357],\n",
              "           [0.9163, 0.5511, 0.3513, 0.3246],\n",
              "           [0.1550, 0.6656, 0.3225, 0.3507]]]]),\n",
              " torch.Size([1, 2, 3, 4]))"
            ]
          },
          "metadata": {},
          "execution_count": 28
        }
      ]
    },
    {
      "cell_type": "markdown",
      "source": [
        "### View\n",
        "A view of a tensor is the same tensor (shares the same memory), so changing it will change the original"
      ],
      "metadata": {
        "id": "wWeQxanv_i4z"
      }
    },
    {
      "cell_type": "code",
      "source": [
        "z = x.view(9, 1)\n",
        "z, z.shape"
      ],
      "metadata": {
        "colab": {
          "base_uri": "https://localhost:8080/"
        },
        "id": "RHbhqq0o_qYU",
        "outputId": "848b3478-d9d5-46e5-96db-e7b15963dd71"
      },
      "execution_count": 29,
      "outputs": [
        {
          "output_type": "execute_result",
          "data": {
            "text/plain": [
              "(tensor([[1.],\n",
              "         [2.],\n",
              "         [3.],\n",
              "         [4.],\n",
              "         [5.],\n",
              "         [6.],\n",
              "         [7.],\n",
              "         [8.],\n",
              "         [9.]]),\n",
              " torch.Size([9, 1]))"
            ]
          },
          "metadata": {},
          "execution_count": 29
        }
      ]
    },
    {
      "cell_type": "code",
      "source": [
        "z[0][0] = 5\n",
        "z, x"
      ],
      "metadata": {
        "colab": {
          "base_uri": "https://localhost:8080/"
        },
        "id": "iO0nJOJY_wwQ",
        "outputId": "156a626b-8672-4f02-9f3f-8b8a92f285dd"
      },
      "execution_count": 30,
      "outputs": [
        {
          "output_type": "execute_result",
          "data": {
            "text/plain": [
              "(tensor([[5.],\n",
              "         [2.],\n",
              "         [3.],\n",
              "         [4.],\n",
              "         [5.],\n",
              "         [6.],\n",
              "         [7.],\n",
              "         [8.],\n",
              "         [9.]]),\n",
              " tensor([5., 2., 3., 4., 5., 6., 7., 8., 9.]))"
            ]
          },
          "metadata": {},
          "execution_count": 30
        }
      ]
    },
    {
      "cell_type": "markdown",
      "source": [
        "### Stack"
      ],
      "metadata": {
        "id": "dDHCbWGD_-Ku"
      }
    },
    {
      "cell_type": "code",
      "source": [
        "x_stacked_v = torch.stack([x, x, x, x], dim=0)\n",
        "x_stacked_h = torch.stack([x, x, x, x], dim=1)\n",
        "x, x_stacked_v, x_stacked_h"
      ],
      "metadata": {
        "colab": {
          "base_uri": "https://localhost:8080/"
        },
        "id": "Ps7p-WjM__6p",
        "outputId": "baee13b7-cf6e-4881-dd7b-dd867457dc7c"
      },
      "execution_count": 31,
      "outputs": [
        {
          "output_type": "execute_result",
          "data": {
            "text/plain": [
              "(tensor([5., 2., 3., 4., 5., 6., 7., 8., 9.]),\n",
              " tensor([[5., 2., 3., 4., 5., 6., 7., 8., 9.],\n",
              "         [5., 2., 3., 4., 5., 6., 7., 8., 9.],\n",
              "         [5., 2., 3., 4., 5., 6., 7., 8., 9.],\n",
              "         [5., 2., 3., 4., 5., 6., 7., 8., 9.]]),\n",
              " tensor([[5., 5., 5., 5.],\n",
              "         [2., 2., 2., 2.],\n",
              "         [3., 3., 3., 3.],\n",
              "         [4., 4., 4., 4.],\n",
              "         [5., 5., 5., 5.],\n",
              "         [6., 6., 6., 6.],\n",
              "         [7., 7., 7., 7.],\n",
              "         [8., 8., 8., 8.],\n",
              "         [9., 9., 9., 9.]]))"
            ]
          },
          "metadata": {},
          "execution_count": 31
        }
      ]
    },
    {
      "cell_type": "markdown",
      "source": [
        "### Squeeze\n",
        "It removes all single dimensions"
      ],
      "metadata": {
        "id": "N2a6cqUoAyDL"
      }
    },
    {
      "cell_type": "code",
      "source": [
        "y_squeezed = torch.squeeze(y)\n",
        "y, y.shape, y_squeezed, y_squeezed.shape"
      ],
      "metadata": {
        "colab": {
          "base_uri": "https://localhost:8080/"
        },
        "id": "Pr6drXa9A0sQ",
        "outputId": "ca03074e-58d8-4131-ed31-60cb004fe7d5"
      },
      "execution_count": 32,
      "outputs": [
        {
          "output_type": "execute_result",
          "data": {
            "text/plain": [
              "(tensor([[[[0.5185, 0.3782, 0.6946, 0.9748]],\n",
              " \n",
              "          [[0.2983, 0.0036, 0.1538, 0.3116]]],\n",
              " \n",
              " \n",
              "         [[[0.1996, 0.0413, 0.6894, 0.0167]],\n",
              " \n",
              "          [[0.4308, 0.2700, 0.4402, 0.8357]]],\n",
              " \n",
              " \n",
              "         [[[0.9163, 0.5511, 0.3513, 0.3246]],\n",
              " \n",
              "          [[0.1550, 0.6656, 0.3225, 0.3507]]]]),\n",
              " torch.Size([3, 2, 1, 4]),\n",
              " tensor([[[0.5185, 0.3782, 0.6946, 0.9748],\n",
              "          [0.2983, 0.0036, 0.1538, 0.3116]],\n",
              " \n",
              "         [[0.1996, 0.0413, 0.6894, 0.0167],\n",
              "          [0.4308, 0.2700, 0.4402, 0.8357]],\n",
              " \n",
              "         [[0.9163, 0.5511, 0.3513, 0.3246],\n",
              "          [0.1550, 0.6656, 0.3225, 0.3507]]]),\n",
              " torch.Size([3, 2, 4]))"
            ]
          },
          "metadata": {},
          "execution_count": 32
        }
      ]
    },
    {
      "cell_type": "markdown",
      "source": [
        "### Unsqueezing\n",
        "Adds one dimension, at the specified index"
      ],
      "metadata": {
        "id": "is8Qw-ge7T3Y"
      }
    },
    {
      "cell_type": "code",
      "source": [
        "y_unsqueezed_0 = y_squeezed.unsqueeze(0)\n",
        "y_unsqueezed_1 = y_squeezed.unsqueeze(1)\n",
        "y_unsqueezed_2 = y_squeezed.unsqueeze(2)\n",
        "y_unsqueezed_3 = y_squeezed.unsqueeze(3)\n",
        "y_u = torch.unsqueeze(y, 0)\n",
        "y_squeezed, y_squeezed.shape, y_unsqueezed_0, y_unsqueezed_0.shape, y_unsqueezed_1, y_unsqueezed_1.shape, y_unsqueezed_2, y_unsqueezed_2.shape, y_unsqueezed_3, y_unsqueezed_3.shape, y_u, y_u.shape"
      ],
      "metadata": {
        "colab": {
          "base_uri": "https://localhost:8080/"
        },
        "id": "2OVlFVxX7WL2",
        "outputId": "4d3c3542-6b0a-4d79-b8df-cc4c6395af05"
      },
      "execution_count": 33,
      "outputs": [
        {
          "output_type": "execute_result",
          "data": {
            "text/plain": [
              "(tensor([[[0.5185, 0.3782, 0.6946, 0.9748],\n",
              "          [0.2983, 0.0036, 0.1538, 0.3116]],\n",
              " \n",
              "         [[0.1996, 0.0413, 0.6894, 0.0167],\n",
              "          [0.4308, 0.2700, 0.4402, 0.8357]],\n",
              " \n",
              "         [[0.9163, 0.5511, 0.3513, 0.3246],\n",
              "          [0.1550, 0.6656, 0.3225, 0.3507]]]),\n",
              " torch.Size([3, 2, 4]),\n",
              " tensor([[[[0.5185, 0.3782, 0.6946, 0.9748],\n",
              "           [0.2983, 0.0036, 0.1538, 0.3116]],\n",
              " \n",
              "          [[0.1996, 0.0413, 0.6894, 0.0167],\n",
              "           [0.4308, 0.2700, 0.4402, 0.8357]],\n",
              " \n",
              "          [[0.9163, 0.5511, 0.3513, 0.3246],\n",
              "           [0.1550, 0.6656, 0.3225, 0.3507]]]]),\n",
              " torch.Size([1, 3, 2, 4]),\n",
              " tensor([[[[0.5185, 0.3782, 0.6946, 0.9748],\n",
              "           [0.2983, 0.0036, 0.1538, 0.3116]]],\n",
              " \n",
              " \n",
              "         [[[0.1996, 0.0413, 0.6894, 0.0167],\n",
              "           [0.4308, 0.2700, 0.4402, 0.8357]]],\n",
              " \n",
              " \n",
              "         [[[0.9163, 0.5511, 0.3513, 0.3246],\n",
              "           [0.1550, 0.6656, 0.3225, 0.3507]]]]),\n",
              " torch.Size([3, 1, 2, 4]),\n",
              " tensor([[[[0.5185, 0.3782, 0.6946, 0.9748]],\n",
              " \n",
              "          [[0.2983, 0.0036, 0.1538, 0.3116]]],\n",
              " \n",
              " \n",
              "         [[[0.1996, 0.0413, 0.6894, 0.0167]],\n",
              " \n",
              "          [[0.4308, 0.2700, 0.4402, 0.8357]]],\n",
              " \n",
              " \n",
              "         [[[0.9163, 0.5511, 0.3513, 0.3246]],\n",
              " \n",
              "          [[0.1550, 0.6656, 0.3225, 0.3507]]]]),\n",
              " torch.Size([3, 2, 1, 4]),\n",
              " tensor([[[[0.5185],\n",
              "           [0.3782],\n",
              "           [0.6946],\n",
              "           [0.9748]],\n",
              " \n",
              "          [[0.2983],\n",
              "           [0.0036],\n",
              "           [0.1538],\n",
              "           [0.3116]]],\n",
              " \n",
              " \n",
              "         [[[0.1996],\n",
              "           [0.0413],\n",
              "           [0.6894],\n",
              "           [0.0167]],\n",
              " \n",
              "          [[0.4308],\n",
              "           [0.2700],\n",
              "           [0.4402],\n",
              "           [0.8357]]],\n",
              " \n",
              " \n",
              "         [[[0.9163],\n",
              "           [0.5511],\n",
              "           [0.3513],\n",
              "           [0.3246]],\n",
              " \n",
              "          [[0.1550],\n",
              "           [0.6656],\n",
              "           [0.3225],\n",
              "           [0.3507]]]]),\n",
              " torch.Size([3, 2, 4, 1]),\n",
              " tensor([[[[[0.5185, 0.3782, 0.6946, 0.9748]],\n",
              " \n",
              "           [[0.2983, 0.0036, 0.1538, 0.3116]]],\n",
              " \n",
              " \n",
              "          [[[0.1996, 0.0413, 0.6894, 0.0167]],\n",
              " \n",
              "           [[0.4308, 0.2700, 0.4402, 0.8357]]],\n",
              " \n",
              " \n",
              "          [[[0.9163, 0.5511, 0.3513, 0.3246]],\n",
              " \n",
              "           [[0.1550, 0.6656, 0.3225, 0.3507]]]]]),\n",
              " torch.Size([1, 3, 2, 1, 4]))"
            ]
          },
          "metadata": {},
          "execution_count": 33
        }
      ]
    },
    {
      "cell_type": "markdown",
      "source": [
        "### Premute\n",
        "Rearranges the dimensions of a target tensor in a specified order.\n",
        "It is important to note that torch.permute or tensor.permute, will return a view, which means it shares the same memory as the original tensor, modifying one of them will modify the other."
      ],
      "metadata": {
        "id": "kgwULTut9FaB"
      }
    },
    {
      "cell_type": "code",
      "source": [
        "r_image = torch.rand(size=(1920, 1080, 3)) # rand image => size = [0 = height, 1 = width, 2 = colour_channels]; it is important to notice the index\n",
        "r_image_permuted = torch.permute(r_image, (2, 0, 1)) # the shape has been changed, this works with indexes, so the size at index 2 was moved to be the first one etc...\n",
        "r_image.shape, r_image_permuted.shape"
      ],
      "metadata": {
        "colab": {
          "base_uri": "https://localhost:8080/"
        },
        "id": "dOOdbLag9LIs",
        "outputId": "bb6c9fa3-693f-4843-9cf6-b447a86e49f9"
      },
      "execution_count": 34,
      "outputs": [
        {
          "output_type": "execute_result",
          "data": {
            "text/plain": [
              "(torch.Size([1920, 1080, 3]), torch.Size([3, 1920, 1080]))"
            ]
          },
          "metadata": {},
          "execution_count": 34
        }
      ]
    },
    {
      "cell_type": "markdown",
      "source": [
        "## Indexing (selecting data from arrays)"
      ],
      "metadata": {
        "id": "h2ahLPSPFxJL"
      }
    },
    {
      "cell_type": "code",
      "source": [
        "import torch\n",
        "\n",
        "x = torch.arange(1, 21).reshape(2, 2, 5)\n",
        "x, x.shape"
      ],
      "metadata": {
        "colab": {
          "base_uri": "https://localhost:8080/"
        },
        "id": "9PGPb9gOF5-J",
        "outputId": "e6de8208-92eb-44fb-a9f7-073a19c996a6"
      },
      "execution_count": 35,
      "outputs": [
        {
          "output_type": "execute_result",
          "data": {
            "text/plain": [
              "(tensor([[[ 1,  2,  3,  4,  5],\n",
              "          [ 6,  7,  8,  9, 10]],\n",
              " \n",
              "         [[11, 12, 13, 14, 15],\n",
              "          [16, 17, 18, 19, 20]]]),\n",
              " torch.Size([2, 2, 5]))"
            ]
          },
          "metadata": {},
          "execution_count": 35
        }
      ]
    },
    {
      "cell_type": "code",
      "source": [
        "x[0], x[0][0], x[0][1][2]"
      ],
      "metadata": {
        "colab": {
          "base_uri": "https://localhost:8080/"
        },
        "id": "hLjHfexHGVDY",
        "outputId": "29e8ae6d-913e-4175-d4a3-0d1d31b966d1"
      },
      "execution_count": 36,
      "outputs": [
        {
          "output_type": "execute_result",
          "data": {
            "text/plain": [
              "(tensor([[ 1,  2,  3,  4,  5],\n",
              "         [ 6,  7,  8,  9, 10]]),\n",
              " tensor([1, 2, 3, 4, 5]),\n",
              " tensor(8))"
            ]
          },
          "metadata": {},
          "execution_count": 36
        }
      ]
    },
    {
      "cell_type": "code",
      "source": [
        "x[:, 0], x[:, 1], x[:, :, 1], x[:, 1, 1]# : means all"
      ],
      "metadata": {
        "colab": {
          "base_uri": "https://localhost:8080/"
        },
        "id": "2mnia0KiHTw_",
        "outputId": "ac78af3c-48e9-4e7e-a878-e5903dd8c320"
      },
      "execution_count": 37,
      "outputs": [
        {
          "output_type": "execute_result",
          "data": {
            "text/plain": [
              "(tensor([[ 1,  2,  3,  4,  5],\n",
              "         [11, 12, 13, 14, 15]]),\n",
              " tensor([[ 6,  7,  8,  9, 10],\n",
              "         [16, 17, 18, 19, 20]]),\n",
              " tensor([[ 2,  7],\n",
              "         [12, 17]]),\n",
              " tensor([ 7, 17]))"
            ]
          },
          "metadata": {},
          "execution_count": 37
        }
      ]
    },
    {
      "cell_type": "code",
      "source": [
        "x[:, :, 2].reshape(4)"
      ],
      "metadata": {
        "colab": {
          "base_uri": "https://localhost:8080/"
        },
        "id": "pBsXPM6GJIGY",
        "outputId": "ca0c7e5a-3812-4d04-ff5d-f4cabf350ac9"
      },
      "execution_count": 38,
      "outputs": [
        {
          "output_type": "execute_result",
          "data": {
            "text/plain": [
              "tensor([ 3,  8, 13, 18])"
            ]
          },
          "metadata": {},
          "execution_count": 38
        }
      ]
    },
    {
      "cell_type": "markdown",
      "source": [
        "## Pytorch tensors and NumPy\n",
        "NumPy is a popular scientific Python numerical computing library.\n",
        "Pytorch has functionality to interact with it."
      ],
      "metadata": {
        "id": "aOZ-Ej8MJgXI"
      }
    },
    {
      "cell_type": "markdown",
      "source": [
        "When converting, the two arrays will not share the same memory changing one will not affect the other."
      ],
      "metadata": {
        "id": "WmF5enlTMDMI"
      }
    },
    {
      "cell_type": "code",
      "source": [
        "import torch\n",
        "import numpy as np\n",
        "array = np.arange(1.0, 8.0)\n",
        "tensor = torch.from_numpy(array) # when converting from numpy the datetype will be float64 as that is the default for numpy, if you want it to be float32 (torch's default) then you have to manually convert it with type(torch.float32)\n",
        "array, tensor"
      ],
      "metadata": {
        "colab": {
          "base_uri": "https://localhost:8080/"
        },
        "id": "cAKkXUX0J1ED",
        "outputId": "688ad1ce-f8ef-4bea-cc82-7260a3dda650"
      },
      "execution_count": 39,
      "outputs": [
        {
          "output_type": "execute_result",
          "data": {
            "text/plain": [
              "(array([1., 2., 3., 4., 5., 6., 7.]),\n",
              " tensor([1., 2., 3., 4., 5., 6., 7.], dtype=torch.float64))"
            ]
          },
          "metadata": {},
          "execution_count": 39
        }
      ]
    },
    {
      "cell_type": "markdown",
      "source": [
        "You can also convert from tensor to numpy"
      ],
      "metadata": {
        "id": "_p5GRS5IMKSH"
      }
    },
    {
      "cell_type": "code",
      "source": [
        "tensor = torch.ones(7)\n",
        "numpy_tensor = tensor.numpy()\n",
        "tensor, numpy_tensor"
      ],
      "metadata": {
        "colab": {
          "base_uri": "https://localhost:8080/"
        },
        "id": "riEirT0lMMhU",
        "outputId": "38720d6e-32e8-483e-c4f0-28729afe9bf7"
      },
      "execution_count": 40,
      "outputs": [
        {
          "output_type": "execute_result",
          "data": {
            "text/plain": [
              "(tensor([1., 1., 1., 1., 1., 1., 1.]),\n",
              " array([1., 1., 1., 1., 1., 1., 1.], dtype=float32))"
            ]
          },
          "metadata": {},
          "execution_count": 40
        }
      ]
    },
    {
      "cell_type": "markdown",
      "source": [
        "# Reproducbility (trying to take random out of random)\n",
        "In short how a neural network learns:\n",
        "\n",
        "`start with random numbers -> tensor operations -> update random numbers and make them better -> repeat`\n",
        "\n",
        "To reducen the randomness in neaural networksand pytorch comes the concept of **random seed**.\n",
        "What is does, is that it flavours the randomness."
      ],
      "metadata": {
        "id": "s2Pl-U3iNNq9"
      }
    },
    {
      "cell_type": "code",
      "source": [
        "import torch\n",
        "\n",
        "RANDOM_SEED = 432\n",
        "torch.manual_seed(RANDOM_SEED) # this only works for one block of code\n",
        "A = torch.rand(3, 4)\n",
        "torch.manual_seed(RANDOM_SEED)\n",
        "B = torch.rand(3, 4)\n",
        "A, B, A == B"
      ],
      "metadata": {
        "colab": {
          "base_uri": "https://localhost:8080/"
        },
        "id": "p3WuUoi0NpNl",
        "outputId": "8f4c0f05-3e29-4920-f2a1-a12571154b2d"
      },
      "execution_count": 41,
      "outputs": [
        {
          "output_type": "execute_result",
          "data": {
            "text/plain": [
              "(tensor([[0.3371, 0.3477, 0.3786, 0.6942],\n",
              "         [0.0272, 0.1464, 0.7420, 0.8068],\n",
              "         [0.0105, 0.6451, 0.4570, 0.8700]]),\n",
              " tensor([[0.3371, 0.3477, 0.3786, 0.6942],\n",
              "         [0.0272, 0.1464, 0.7420, 0.8068],\n",
              "         [0.0105, 0.6451, 0.4570, 0.8700]]),\n",
              " tensor([[True, True, True, True],\n",
              "         [True, True, True, True],\n",
              "         [True, True, True, True]]))"
            ]
          },
          "metadata": {},
          "execution_count": 41
        }
      ]
    },
    {
      "cell_type": "markdown",
      "source": [
        "# Running tensors and pytorch objects on GPUs"
      ],
      "metadata": {
        "id": "mO45Ar-mSQgg"
      }
    },
    {
      "cell_type": "markdown",
      "source": [
        "### Getting a GPU\n",
        "1. Use Google colab for a free GPU (options to upgrade) - Easiest.\n",
        "2. Use your own GPU - Requires a bit of setup\n",
        "3. Use cloud computing - GCP, AWS, Azure\n",
        "\n",
        "For option 2, 3, look at the pytorch setup docs.\n",
        "\n",
        "**It is important to note that numpy does not work on GPUs therefore you cannot convert from a tensor to a numPy array when on a gpu. But you can move a tensor back to the cpu**\n",
        "### Device Agnostic\n",
        "It is reccomended to have device agnostic code.\n",
        "For device agnostic code checkout this <a href=\"https://pytorch.org/docs/stable/notes/cuda.html\">link</a>\n",
        "E.g. run on GPU if available else default to CPU"
      ],
      "metadata": {
        "id": "FK9f5VsvSawg"
      }
    },
    {
      "cell_type": "markdown",
      "source": [
        "### Check for GPU Access"
      ],
      "metadata": {
        "id": "eYMAF2GoTq8l"
      }
    },
    {
      "cell_type": "code",
      "source": [
        "import torch\n",
        "torch.cuda.is_available()"
      ],
      "metadata": {
        "colab": {
          "base_uri": "https://localhost:8080/"
        },
        "id": "PwUdDuwMTti3",
        "outputId": "c0b96cfa-264e-4932-e6e5-efdd4f7c2532"
      },
      "execution_count": 42,
      "outputs": [
        {
          "output_type": "execute_result",
          "data": {
            "text/plain": [
              "True"
            ]
          },
          "metadata": {},
          "execution_count": 42
        }
      ]
    },
    {
      "cell_type": "code",
      "source": [
        "# setup device agnostic code\n",
        "device = \"cuda\" if torch.cuda.is_available() else \"cpu\"\n",
        "device"
      ],
      "metadata": {
        "colab": {
          "base_uri": "https://localhost:8080/",
          "height": 35
        },
        "id": "64o1mIoATSPW",
        "outputId": "51b4efa5-3404-4de0-b135-d5a43f156524"
      },
      "execution_count": 45,
      "outputs": [
        {
          "output_type": "execute_result",
          "data": {
            "text/plain": [
              "'cuda'"
            ],
            "application/vnd.google.colaboratory.intrinsic+json": {
              "type": "string"
            }
          },
          "metadata": {},
          "execution_count": 45
        }
      ]
    },
    {
      "cell_type": "code",
      "source": [
        "# you can also count the number of gpus\n",
        "torch.cuda.device_count()"
      ],
      "metadata": {
        "colab": {
          "base_uri": "https://localhost:8080/"
        },
        "id": "m_9DH4H8VFvx",
        "outputId": "d9ae25f6-408f-4a6a-c9a2-76b03a195bfe"
      },
      "execution_count": 46,
      "outputs": [
        {
          "output_type": "execute_result",
          "data": {
            "text/plain": [
              "1"
            ]
          },
          "metadata": {},
          "execution_count": 46
        }
      ]
    },
    {
      "cell_type": "markdown",
      "source": [
        "## Putting tensors on the GPU"
      ],
      "metadata": {
        "id": "TM-2YiJVV7bS"
      }
    },
    {
      "cell_type": "code",
      "source": [
        "# Create a tensor (default on the CPU)\n",
        "tensor = torch.tensor([1, 2, 3])\n",
        "# Tensor not on GPU\n",
        "tensor.device"
      ],
      "metadata": {
        "colab": {
          "base_uri": "https://localhost:8080/"
        },
        "id": "MbLJOvF4V-ip",
        "outputId": "47c1cd2e-6a49-4f1b-b41d-f76b3c0c161c"
      },
      "execution_count": 47,
      "outputs": [
        {
          "output_type": "execute_result",
          "data": {
            "text/plain": [
              "device(type='cpu')"
            ]
          },
          "metadata": {},
          "execution_count": 47
        }
      ]
    },
    {
      "cell_type": "code",
      "source": [
        "# Move tensor to gpu\n",
        "tensor_on_gpu = tensor.to(device)\n",
        "tensor_on_gpu.device"
      ],
      "metadata": {
        "colab": {
          "base_uri": "https://localhost:8080/"
        },
        "id": "ov9GvKQ2WLgy",
        "outputId": "034941fb-d2d6-4482-c03e-821457900234"
      },
      "execution_count": 48,
      "outputs": [
        {
          "output_type": "execute_result",
          "data": {
            "text/plain": [
              "device(type='cuda', index=0)"
            ]
          },
          "metadata": {},
          "execution_count": 48
        }
      ]
    },
    {
      "cell_type": "code",
      "source": [
        "tensor_on_gpu[0] = 2\n",
        "tensor, tensor_on_gpu"
      ],
      "metadata": {
        "colab": {
          "base_uri": "https://localhost:8080/"
        },
        "id": "pcAcN3LVWWDd",
        "outputId": "987574f5-a5b9-44ec-fbd4-954786d0913a"
      },
      "execution_count": 49,
      "outputs": [
        {
          "output_type": "execute_result",
          "data": {
            "text/plain": [
              "(tensor([1, 2, 3]), tensor([2, 2, 3], device='cuda:0'))"
            ]
          },
          "metadata": {},
          "execution_count": 49
        }
      ]
    },
    {
      "cell_type": "code",
      "source": [
        "# Move back to cpu\n",
        "tensor_on_cpu = tensor_on_gpu.cpu()\n",
        "tensor_on_cpu.numpy() # This would fail on a gpu"
      ],
      "metadata": {
        "colab": {
          "base_uri": "https://localhost:8080/"
        },
        "id": "gD_pD0OGWi4G",
        "outputId": "b1e476ca-4f16-4047-e4e6-59351c49c8d0"
      },
      "execution_count": 50,
      "outputs": [
        {
          "output_type": "execute_result",
          "data": {
            "text/plain": [
              "array([2, 2, 3])"
            ]
          },
          "metadata": {},
          "execution_count": 50
        }
      ]
    },
    {
      "cell_type": "markdown",
      "source": [
        "# Excercises\n",
        "https://www.learnpytorch.io/00_pytorch_fundamentals/#exercises\n"
      ],
      "metadata": {
        "id": "k9EDMmarY5sO"
      }
    },
    {
      "cell_type": "code",
      "source": [
        "import torch\n",
        "# 2. Create a random tensor with shape (7, 7).\n",
        "ran = torch.rand(7, 7)\n",
        "ran.shape"
      ],
      "metadata": {
        "colab": {
          "base_uri": "https://localhost:8080/"
        },
        "id": "t-rXUR40Y_mv",
        "outputId": "701c23b5-c71b-48a6-d573-af2f970783e3"
      },
      "execution_count": 51,
      "outputs": [
        {
          "output_type": "execute_result",
          "data": {
            "text/plain": [
              "torch.Size([7, 7])"
            ]
          },
          "metadata": {},
          "execution_count": 51
        }
      ]
    },
    {
      "cell_type": "code",
      "source": [
        "# 3 Perform a matrix multiplication on the tensor from 2 with another random tensor with shape (1, 7) (hint: you may have to transpose the second tensor).\n",
        "ran2 = torch.rand(1, 7)\n",
        "torch.mm(ran, ran2.T)"
      ],
      "metadata": {
        "colab": {
          "base_uri": "https://localhost:8080/"
        },
        "id": "p6f-jycJZJy7",
        "outputId": "d9ff2743-a4dd-415d-d35c-7d921975e666"
      },
      "execution_count": 54,
      "outputs": [
        {
          "output_type": "execute_result",
          "data": {
            "text/plain": [
              "tensor([[1.1679],\n",
              "        [1.3314],\n",
              "        [1.6210],\n",
              "        [2.0120],\n",
              "        [0.9991],\n",
              "        [1.2929],\n",
              "        [1.2112]])"
            ]
          },
          "metadata": {},
          "execution_count": 54
        }
      ]
    },
    {
      "cell_type": "code",
      "source": [
        "# 4 Set the random seed to 0 and do exercises 2 & 3 over again.\n",
        "SEED = 0\n",
        "torch.manual_seed(SEED)\n",
        "ran = torch.rand(7, 7)\n",
        "torch.manual_seed(SEED)\n",
        "ran2 = torch.rand(1, 7)\n",
        "torch.mm(ran, ran2.T)"
      ],
      "metadata": {
        "colab": {
          "base_uri": "https://localhost:8080/"
        },
        "id": "Hj7sOldbZqyR",
        "outputId": "67b09a71-50c7-4623-9a7a-0c07d817c2ba"
      },
      "execution_count": 55,
      "outputs": [
        {
          "output_type": "execute_result",
          "data": {
            "text/plain": [
              "tensor([[1.5985],\n",
              "        [1.1173],\n",
              "        [1.2741],\n",
              "        [1.6838],\n",
              "        [0.8279],\n",
              "        [1.0347],\n",
              "        [1.2498]])"
            ]
          },
          "metadata": {},
          "execution_count": 55
        }
      ]
    },
    {
      "cell_type": "code",
      "source": [
        "# 5 Speaking of random seeds, we saw how to set it with torch.manual_seed() but is there a GPU equivalent? (hint: you'll need to look into the documentation for torch.cuda for this one). If there is, set the GPU random seed to 1234.\n",
        "GPU_SEED = 1234\n",
        "torch.cuda.manual_seed(GPU_SEED)\n",
        "# 6 Create two random tensors of shape (2, 3) and send them both to the GPU (you'll need access to a GPU for this). Set torch.manual_seed(1234) when creating the tensors (this doesn't have to be the GPU random seed).\n",
        "device = \"cuda\" if torch.cuda.is_available() else \"cpu\"\n",
        "torch.manual_seed(GPU_SEED)\n",
        "ran = torch.rand(2, 3).to(device)\n",
        "torch.manual_seed(GPU_SEED)\n",
        "ran2 = torch.rand(2, 3).to(device)\n",
        "ran.device, ran2.device, ran == ran2"
      ],
      "metadata": {
        "colab": {
          "base_uri": "https://localhost:8080/"
        },
        "id": "9gYg8qb6aPfc",
        "outputId": "2005a6b8-a14f-477d-b45c-b4a918bc32d5"
      },
      "execution_count": 61,
      "outputs": [
        {
          "output_type": "execute_result",
          "data": {
            "text/plain": [
              "(device(type='cuda', index=0),\n",
              " device(type='cuda', index=0),\n",
              " tensor([[True, True, True],\n",
              "         [True, True, True]], device='cuda:0'))"
            ]
          },
          "metadata": {},
          "execution_count": 61
        }
      ]
    },
    {
      "cell_type": "code",
      "source": [
        "# 7 Perform a matrix multiplication on the tensors you created in 6 (again, you may have to adjust the shapes of one of the tensors).\n",
        "result = ran.mm(ran2.T)\n",
        "result"
      ],
      "metadata": {
        "colab": {
          "base_uri": "https://localhost:8080/"
        },
        "id": "jS8_sfTXbQB2",
        "outputId": "2d5a4ed3-3fd8-4a4c-d377-8e5027f45eb4"
      },
      "execution_count": 64,
      "outputs": [
        {
          "output_type": "execute_result",
          "data": {
            "text/plain": [
              "tensor([[0.2299, 0.2161],\n",
              "        [0.2161, 0.6287]], device='cuda:0')"
            ]
          },
          "metadata": {},
          "execution_count": 64
        }
      ]
    },
    {
      "cell_type": "code",
      "source": [
        "# 8 Find the maximum and minimum values of the output of 7.\n",
        "result.max(), result.min()"
      ],
      "metadata": {
        "colab": {
          "base_uri": "https://localhost:8080/"
        },
        "id": "Be1zNzBRcC5q",
        "outputId": "32a760bc-dcc8-4f4e-e369-69c9066b0358"
      },
      "execution_count": 65,
      "outputs": [
        {
          "output_type": "execute_result",
          "data": {
            "text/plain": [
              "(tensor(0.6287, device='cuda:0'), tensor(0.2161, device='cuda:0'))"
            ]
          },
          "metadata": {},
          "execution_count": 65
        }
      ]
    },
    {
      "cell_type": "code",
      "source": [
        "# 9 Find the maximum and minimum index values of the output of 7.\n",
        "result.argmax(), result.argmin()"
      ],
      "metadata": {
        "colab": {
          "base_uri": "https://localhost:8080/"
        },
        "id": "hpP1Zs_scZre",
        "outputId": "a64a9605-a0fe-4a42-8506-b7074ffaee46"
      },
      "execution_count": 66,
      "outputs": [
        {
          "output_type": "execute_result",
          "data": {
            "text/plain": [
              "(tensor(3, device='cuda:0'), tensor(1, device='cuda:0'))"
            ]
          },
          "metadata": {},
          "execution_count": 66
        }
      ]
    },
    {
      "cell_type": "code",
      "source": [
        "# 10 Make a random tensor with shape (1, 1, 1, 10) and then create a new tensor with all the 1 dimensions removed to be left with a tensor of shape (10). Set the seed to 7 when you create it and print out the first tensor and it's shape as well as the second tensor and it's shape.\n",
        "torch.manual_seed(7)\n",
        "x = torch.rand(1, 1, 1, 10)\n",
        "y = x.squeeze()\n",
        "x, x.shape, y, y.shape"
      ],
      "metadata": {
        "colab": {
          "base_uri": "https://localhost:8080/"
        },
        "id": "x3BlybYSchQ3",
        "outputId": "94881e62-12b3-4a73-c282-5631181d7dd6"
      },
      "execution_count": 70,
      "outputs": [
        {
          "output_type": "execute_result",
          "data": {
            "text/plain": [
              "(tensor([[[[0.5349, 0.1988, 0.6592, 0.6569, 0.2328, 0.4251, 0.2071, 0.6297,\n",
              "            0.3653, 0.8513]]]]),\n",
              " torch.Size([1, 1, 1, 10]),\n",
              " tensor([0.5349, 0.1988, 0.6592, 0.6569, 0.2328, 0.4251, 0.2071, 0.6297, 0.3653,\n",
              "         0.8513]),\n",
              " torch.Size([10]))"
            ]
          },
          "metadata": {},
          "execution_count": 70
        }
      ]
    }
  ]
}